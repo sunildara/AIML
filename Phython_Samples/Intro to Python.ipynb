{
 "cells": [
  {
   "cell_type": "markdown",
   "metadata": {},
   "source": [
    "# Types of Variable in python\n",
    "    Single value variable\n",
    "        *Variable type is derived based on value assigned to the variable\n",
    "    Collection of variables\n",
    "        Types of Collection\n",
    "        1. List\n",
    "            *A list is a ordered and indexed collections of values that can be changed and can have duplicate.\n",
    "        2. tuple\n",
    "            * A tuple is a ordered collections of values that can not be changed and allows duplicate.\n",
    "        3. set\n",
    "            * A set is a unordered collection of values and does not allow duplicate\n",
    "        4. dictionary\n",
    "            * A dictionary is a collection which is unordered, changeable and indexed."
   ]
  },
  {
   "cell_type": "markdown",
   "metadata": {},
   "source": [
    "## Example for Single value variables"
   ]
  },
  {
   "cell_type": "code",
   "execution_count": 10,
   "metadata": {},
   "outputs": [
    {
     "name": "stdout",
     "output_type": "stream",
     "text": [
      "3\n",
      "3\n",
      "3\n",
      "15\n"
     ]
    }
   ],
   "source": [
    "a=3\n",
    "print(a)\n",
    "b=a\n",
    "print(b)\n",
    "a=5\n",
    "print(b)\n",
    "print(a*b)"
   ]
  },
  {
   "cell_type": "markdown",
   "metadata": {},
   "source": [
    "## Example for Collection - List"
   ]
  },
  {
   "cell_type": "code",
   "execution_count": 30,
   "metadata": {},
   "outputs": [
    {
     "name": "stdout",
     "output_type": "stream",
     "text": [
      "[2, 3, 5, 1]\n",
      "[5, 1, 45]\n",
      "[2, 3, 2, 3]\n"
     ]
    }
   ],
   "source": [
    "ls = [10,2,3,5,1,45,67,3]\n",
    "print(ls[1:5])\n",
    "print(ls[-5:-2])\n",
    "print(ls[1:3]*2)"
   ]
  },
  {
   "cell_type": "markdown",
   "metadata": {},
   "source": [
    "## Tuple\n",
    "Tuple values can not be changed once created, it can be changed by taking values to list only and assign it back."
   ]
  },
  {
   "cell_type": "code",
   "execution_count": null,
   "metadata": {},
   "outputs": [],
   "source": []
  },
  {
   "cell_type": "code",
   "execution_count": 45,
   "metadata": {},
   "outputs": [
    {
     "name": "stdout",
     "output_type": "stream",
     "text": [
      "(10, 2, 3, 5, 6)\n",
      "2\n",
      "[10, 2, 3, 5, 6]\n",
      "[10, 20, 3, 5, 6]\n",
      "(10, 20, 3, 5, 6)\n"
     ]
    }
   ],
   "source": [
    "tuple1 = (10,2,3,5,6)\n",
    "print(tuple1)\n",
    "print(tuple1[1])\n",
    "list1 = list(tuple1)\n",
    "print(list1)\n",
    "list1[1] = 20\n",
    "print(list1)\n",
    "tuple1 = tuple(list1)\n",
    "print(tuple1)"
   ]
  },
  {
   "cell_type": "markdown",
   "metadata": {},
   "source": [
    "## Set\n",
    "A set is a unordered collection of values and does not allow duplicate"
   ]
  },
  {
   "cell_type": "code",
   "execution_count": 64,
   "metadata": {},
   "outputs": [
    {
     "name": "stdout",
     "output_type": "stream",
     "text": [
      "{8, 2, 5, 7}\n",
      "{40, 10, 2, 30}\n",
      "{2, 5, 7, 8, 40, 10, 30}\n",
      "40\n",
      "10\n",
      "2\n"
     ]
    }
   ],
   "source": [
    "set1 = {2,5,7,8,2}\n",
    "set2 = {10,40,30,2}\n",
    "print(set1)\n",
    "print(set2)\n",
    "print(set1.union(set2))\n",
    "print(set2.pop())\n",
    "print(set2.pop())\n",
    "print(set2.pop())"
   ]
  },
  {
   "cell_type": "markdown",
   "metadata": {},
   "source": [
    "## Dictionary\n",
    "A dictionary is a collection which is unordered, changeable and indexed."
   ]
  },
  {
   "cell_type": "code",
   "execution_count": 80,
   "metadata": {},
   "outputs": [
    {
     "name": "stdout",
     "output_type": "stream",
     "text": [
      "6\n",
      "[1, 3, '5']\n",
      "dict_keys([1, 3, '5'])\n"
     ]
    }
   ],
   "source": [
    "dic1 = {1:2,3:4,'5':6}\n",
    "print(dic1.get('5'))\n",
    "print(list(dict.fromkeys(dic1,2)))\n",
    "print(dict.keys(dic1))"
   ]
  }
 ],
 "metadata": {
  "kernelspec": {
   "display_name": "Python 3",
   "language": "python",
   "name": "python3"
  },
  "language_info": {
   "codemirror_mode": {
    "name": "ipython",
    "version": 3
   },
   "file_extension": ".py",
   "mimetype": "text/x-python",
   "name": "python",
   "nbconvert_exporter": "python",
   "pygments_lexer": "ipython3",
   "version": "3.8.3"
  }
 },
 "nbformat": 4,
 "nbformat_minor": 4
}
