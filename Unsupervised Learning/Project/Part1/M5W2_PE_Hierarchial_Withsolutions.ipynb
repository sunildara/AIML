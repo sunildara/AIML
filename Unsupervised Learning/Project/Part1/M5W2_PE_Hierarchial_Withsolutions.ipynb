{
 "cells": [
  {
   "cell_type": "markdown",
   "metadata": {},
   "source": [
    "# Context:\n",
    "The data set has information about features of silhouette extracted from the images of different cars\n",
    "Four \"Corgie\" model vehicles were used for the experiment: a double decker bus, Cheverolet van, Saab 9000 and an Opel Manta 400 \n",
    "cars. This particular combination of vehicles was chosen with the expectation that the bus, van and either one of the cars \n",
    "would be readily distinguishable, but it would be more difficult to distinguish between the cars.\n",
    "\n",
    "Here let's apply Hierarchial Clustering"
   ]
  },
  {
   "cell_type": "markdown",
   "metadata": {},
   "source": [
    "# Q1. Import libraries and Read the dataset using function .dropna() - to avoid dealing with NAs"
   ]
  },
  {
   "cell_type": "code",
   "execution_count": 1,
   "metadata": {},
   "outputs": [],
   "source": [
    "import pandas as pd\n",
    "df = pd.read_csv('vehicle.csv').dropna()"
   ]
  },
  {
   "cell_type": "code",
   "execution_count": 2,
   "metadata": {},
   "outputs": [
    {
     "data": {
      "text/plain": [
       "(813, 19)"
      ]
     },
     "execution_count": 2,
     "metadata": {},
     "output_type": "execute_result"
    }
   ],
   "source": [
    "df.shape"
   ]
  },
  {
   "cell_type": "code",
   "execution_count": 3,
   "metadata": {},
   "outputs": [
    {
     "name": "stdout",
     "output_type": "stream",
     "text": [
      "<class 'pandas.core.frame.DataFrame'>\n",
      "Int64Index: 813 entries, 0 to 845\n",
      "Data columns (total 19 columns):\n",
      " #   Column                       Non-Null Count  Dtype  \n",
      "---  ------                       --------------  -----  \n",
      " 0   compactness                  813 non-null    int64  \n",
      " 1   circularity                  813 non-null    float64\n",
      " 2   distance_circularity         813 non-null    float64\n",
      " 3   radius_ratio                 813 non-null    float64\n",
      " 4   pr.axis_aspect_ratio         813 non-null    float64\n",
      " 5   max.length_aspect_ratio      813 non-null    int64  \n",
      " 6   scatter_ratio                813 non-null    float64\n",
      " 7   elongatedness                813 non-null    float64\n",
      " 8   pr.axis_rectangularity       813 non-null    float64\n",
      " 9   max.length_rectangularity    813 non-null    int64  \n",
      " 10  scaled_variance              813 non-null    float64\n",
      " 11  scaled_variance.1            813 non-null    float64\n",
      " 12  scaled_radius_of_gyration    813 non-null    float64\n",
      " 13  scaled_radius_of_gyration.1  813 non-null    float64\n",
      " 14  skewness_about               813 non-null    float64\n",
      " 15  skewness_about.1             813 non-null    float64\n",
      " 16  skewness_about.2             813 non-null    float64\n",
      " 17  hollows_ratio                813 non-null    int64  \n",
      " 18  class                        813 non-null    object \n",
      "dtypes: float64(14), int64(4), object(1)\n",
      "memory usage: 127.0+ KB\n"
     ]
    }
   ],
   "source": [
    "df.info()"
   ]
  },
  {
   "cell_type": "code",
   "execution_count": 4,
   "metadata": {},
   "outputs": [
    {
     "data": {
      "text/html": [
       "<div>\n",
       "<style scoped>\n",
       "    .dataframe tbody tr th:only-of-type {\n",
       "        vertical-align: middle;\n",
       "    }\n",
       "\n",
       "    .dataframe tbody tr th {\n",
       "        vertical-align: top;\n",
       "    }\n",
       "\n",
       "    .dataframe thead th {\n",
       "        text-align: right;\n",
       "    }\n",
       "</style>\n",
       "<table border=\"1\" class=\"dataframe\">\n",
       "  <thead>\n",
       "    <tr style=\"text-align: right;\">\n",
       "      <th></th>\n",
       "      <th>compactness</th>\n",
       "      <th>circularity</th>\n",
       "      <th>distance_circularity</th>\n",
       "      <th>radius_ratio</th>\n",
       "      <th>pr.axis_aspect_ratio</th>\n",
       "      <th>max.length_aspect_ratio</th>\n",
       "      <th>scatter_ratio</th>\n",
       "      <th>elongatedness</th>\n",
       "      <th>pr.axis_rectangularity</th>\n",
       "      <th>max.length_rectangularity</th>\n",
       "      <th>scaled_variance</th>\n",
       "      <th>scaled_variance.1</th>\n",
       "      <th>scaled_radius_of_gyration</th>\n",
       "      <th>scaled_radius_of_gyration.1</th>\n",
       "      <th>skewness_about</th>\n",
       "      <th>skewness_about.1</th>\n",
       "      <th>skewness_about.2</th>\n",
       "      <th>hollows_ratio</th>\n",
       "      <th>class</th>\n",
       "    </tr>\n",
       "  </thead>\n",
       "  <tbody>\n",
       "    <tr>\n",
       "      <th>0</th>\n",
       "      <td>95</td>\n",
       "      <td>48.0</td>\n",
       "      <td>83.0</td>\n",
       "      <td>178.0</td>\n",
       "      <td>72.0</td>\n",
       "      <td>10</td>\n",
       "      <td>162.0</td>\n",
       "      <td>42.0</td>\n",
       "      <td>20.0</td>\n",
       "      <td>159</td>\n",
       "      <td>176.0</td>\n",
       "      <td>379.0</td>\n",
       "      <td>184.0</td>\n",
       "      <td>70.0</td>\n",
       "      <td>6.0</td>\n",
       "      <td>16.0</td>\n",
       "      <td>187.0</td>\n",
       "      <td>197</td>\n",
       "      <td>van</td>\n",
       "    </tr>\n",
       "    <tr>\n",
       "      <th>1</th>\n",
       "      <td>91</td>\n",
       "      <td>41.0</td>\n",
       "      <td>84.0</td>\n",
       "      <td>141.0</td>\n",
       "      <td>57.0</td>\n",
       "      <td>9</td>\n",
       "      <td>149.0</td>\n",
       "      <td>45.0</td>\n",
       "      <td>19.0</td>\n",
       "      <td>143</td>\n",
       "      <td>170.0</td>\n",
       "      <td>330.0</td>\n",
       "      <td>158.0</td>\n",
       "      <td>72.0</td>\n",
       "      <td>9.0</td>\n",
       "      <td>14.0</td>\n",
       "      <td>189.0</td>\n",
       "      <td>199</td>\n",
       "      <td>van</td>\n",
       "    </tr>\n",
       "    <tr>\n",
       "      <th>2</th>\n",
       "      <td>104</td>\n",
       "      <td>50.0</td>\n",
       "      <td>106.0</td>\n",
       "      <td>209.0</td>\n",
       "      <td>66.0</td>\n",
       "      <td>10</td>\n",
       "      <td>207.0</td>\n",
       "      <td>32.0</td>\n",
       "      <td>23.0</td>\n",
       "      <td>158</td>\n",
       "      <td>223.0</td>\n",
       "      <td>635.0</td>\n",
       "      <td>220.0</td>\n",
       "      <td>73.0</td>\n",
       "      <td>14.0</td>\n",
       "      <td>9.0</td>\n",
       "      <td>188.0</td>\n",
       "      <td>196</td>\n",
       "      <td>car</td>\n",
       "    </tr>\n",
       "    <tr>\n",
       "      <th>3</th>\n",
       "      <td>93</td>\n",
       "      <td>41.0</td>\n",
       "      <td>82.0</td>\n",
       "      <td>159.0</td>\n",
       "      <td>63.0</td>\n",
       "      <td>9</td>\n",
       "      <td>144.0</td>\n",
       "      <td>46.0</td>\n",
       "      <td>19.0</td>\n",
       "      <td>143</td>\n",
       "      <td>160.0</td>\n",
       "      <td>309.0</td>\n",
       "      <td>127.0</td>\n",
       "      <td>63.0</td>\n",
       "      <td>6.0</td>\n",
       "      <td>10.0</td>\n",
       "      <td>199.0</td>\n",
       "      <td>207</td>\n",
       "      <td>van</td>\n",
       "    </tr>\n",
       "    <tr>\n",
       "      <th>4</th>\n",
       "      <td>85</td>\n",
       "      <td>44.0</td>\n",
       "      <td>70.0</td>\n",
       "      <td>205.0</td>\n",
       "      <td>103.0</td>\n",
       "      <td>52</td>\n",
       "      <td>149.0</td>\n",
       "      <td>45.0</td>\n",
       "      <td>19.0</td>\n",
       "      <td>144</td>\n",
       "      <td>241.0</td>\n",
       "      <td>325.0</td>\n",
       "      <td>188.0</td>\n",
       "      <td>127.0</td>\n",
       "      <td>9.0</td>\n",
       "      <td>11.0</td>\n",
       "      <td>180.0</td>\n",
       "      <td>183</td>\n",
       "      <td>bus</td>\n",
       "    </tr>\n",
       "  </tbody>\n",
       "</table>\n",
       "</div>"
      ],
      "text/plain": [
       "   compactness  circularity  distance_circularity  radius_ratio  \\\n",
       "0           95         48.0                  83.0         178.0   \n",
       "1           91         41.0                  84.0         141.0   \n",
       "2          104         50.0                 106.0         209.0   \n",
       "3           93         41.0                  82.0         159.0   \n",
       "4           85         44.0                  70.0         205.0   \n",
       "\n",
       "   pr.axis_aspect_ratio  max.length_aspect_ratio  scatter_ratio  \\\n",
       "0                  72.0                       10          162.0   \n",
       "1                  57.0                        9          149.0   \n",
       "2                  66.0                       10          207.0   \n",
       "3                  63.0                        9          144.0   \n",
       "4                 103.0                       52          149.0   \n",
       "\n",
       "   elongatedness  pr.axis_rectangularity  max.length_rectangularity  \\\n",
       "0           42.0                    20.0                        159   \n",
       "1           45.0                    19.0                        143   \n",
       "2           32.0                    23.0                        158   \n",
       "3           46.0                    19.0                        143   \n",
       "4           45.0                    19.0                        144   \n",
       "\n",
       "   scaled_variance  scaled_variance.1  scaled_radius_of_gyration  \\\n",
       "0            176.0              379.0                      184.0   \n",
       "1            170.0              330.0                      158.0   \n",
       "2            223.0              635.0                      220.0   \n",
       "3            160.0              309.0                      127.0   \n",
       "4            241.0              325.0                      188.0   \n",
       "\n",
       "   scaled_radius_of_gyration.1  skewness_about  skewness_about.1  \\\n",
       "0                         70.0             6.0              16.0   \n",
       "1                         72.0             9.0              14.0   \n",
       "2                         73.0            14.0               9.0   \n",
       "3                         63.0             6.0              10.0   \n",
       "4                        127.0             9.0              11.0   \n",
       "\n",
       "   skewness_about.2  hollows_ratio class  \n",
       "0             187.0            197   van  \n",
       "1             189.0            199   van  \n",
       "2             188.0            196   car  \n",
       "3             199.0            207   van  \n",
       "4             180.0            183   bus  "
      ]
     },
     "execution_count": 4,
     "metadata": {},
     "output_type": "execute_result"
    }
   ],
   "source": [
    "df.head()"
   ]
  },
  {
   "cell_type": "markdown",
   "metadata": {},
   "source": [
    "# Q2. Print/ Plot the dependent (categorical variable) and Check for any missing values in the data"
   ]
  },
  {
   "cell_type": "code",
   "execution_count": 5,
   "metadata": {},
   "outputs": [
    {
     "data": {
      "text/plain": [
       "car    413\n",
       "bus    205\n",
       "van    195\n",
       "Name: class, dtype: int64"
      ]
     },
     "execution_count": 5,
     "metadata": {},
     "output_type": "execute_result"
    }
   ],
   "source": [
    "#Since the variable is categorical, you can use value_counts function\n",
    "pd.value_counts(df['class'])"
   ]
  },
  {
   "cell_type": "code",
   "execution_count": 6,
   "metadata": {},
   "outputs": [
    {
     "data": {
      "text/plain": [
       "<AxesSubplot:>"
      ]
     },
     "execution_count": 6,
     "metadata": {},
     "output_type": "execute_result"
    },
    {
     "data": {
      "image/png": "[encoded data removed]",
      "text/plain": [
       "<Figure size 432x288 with 1 Axes>"
      ]
     },
     "metadata": {
      "needs_background": "light"
     },
     "output_type": "display_data"
    }
   ],
   "source": [
    "import matplotlib.pyplot as plt\n",
    "%matplotlib inline\n",
    "pd.value_counts(df[\"class\"]).plot(kind=\"bar\")"
   ]
  },
  {
   "cell_type": "code",
   "execution_count": 7,
   "metadata": {},
   "outputs": [
    {
     "data": {
      "text/plain": [
       "<AxesSubplot:>"
      ]
     },
     "execution_count": 7,
     "metadata": {},
     "output_type": "execute_result"
    },
    {
     "data": {
      "image/png": "[encoded data removed]",
      "text/plain": [
       "<Figure size 432x288 with 1 Axes>"
      ]
     },
     "metadata": {
      "needs_background": "light"
     },
     "output_type": "display_data"
    }
   ],
   "source": [
    "pd.value_counts(df['class']).hist(bins=300)"
   ]
  },
  {
   "cell_type": "code",
   "execution_count": 8,
   "metadata": {},
   "outputs": [
    {
     "data": {
      "text/plain": [
       "compactness                    0\n",
       "circularity                    0\n",
       "distance_circularity           0\n",
       "radius_ratio                   0\n",
       "pr.axis_aspect_ratio           0\n",
       "max.length_aspect_ratio        0\n",
       "scatter_ratio                  0\n",
       "elongatedness                  0\n",
       "pr.axis_rectangularity         0\n",
       "max.length_rectangularity      0\n",
       "scaled_variance                0\n",
       "scaled_variance.1              0\n",
       "scaled_radius_of_gyration      0\n",
       "scaled_radius_of_gyration.1    0\n",
       "skewness_about                 0\n",
       "skewness_about.1               0\n",
       "skewness_about.2               0\n",
       "hollows_ratio                  0\n",
       "class                          0\n",
       "dtype: int64"
      ]
     },
     "execution_count": 8,
     "metadata": {},
     "output_type": "execute_result"
    }
   ],
   "source": [
    "df.isna().sum()"
   ]
  },
  {
   "cell_type": "markdown",
   "metadata": {},
   "source": [
    "# Q3. Standardize the data"
   ]
  },
  {
   "cell_type": "code",
   "execution_count": 9,
   "metadata": {},
   "outputs": [],
   "source": [
    "# Since the dimensions of the data are not really known to us, it would be wise to standardize the data using z scores before we \n",
    "#go for any clustering methods. You can use zscore function to do this"
   ]
  },
  {
   "cell_type": "code",
   "execution_count": 10,
   "metadata": {},
   "outputs": [],
   "source": [
    "interest_df = df.drop('class', axis=1)"
   ]
  },
  {
   "cell_type": "code",
   "execution_count": 11,
   "metadata": {},
   "outputs": [],
   "source": [
    "from scipy.stats import zscore\n",
    "interest_df_z = interest_df.apply(zscore)"
   ]
  },
  {
   "cell_type": "code",
   "execution_count": 12,
   "metadata": {
    "scrolled": true
   },
   "outputs": [
    {
     "data": {
      "text/html": [
       "<div>\n",
       "<style scoped>\n",
       "    .dataframe tbody tr th:only-of-type {\n",
       "        vertical-align: middle;\n",
       "    }\n",
       "\n",
       "    .dataframe tbody tr th {\n",
       "        vertical-align: top;\n",
       "    }\n",
       "\n",
       "    .dataframe thead th {\n",
       "        text-align: right;\n",
       "    }\n",
       "</style>\n",
       "<table border=\"1\" class=\"dataframe\">\n",
       "  <thead>\n",
       "    <tr style=\"text-align: right;\">\n",
       "      <th></th>\n",
       "      <th>compactness</th>\n",
       "      <th>circularity</th>\n",
       "      <th>distance_circularity</th>\n",
       "      <th>radius_ratio</th>\n",
       "      <th>pr.axis_aspect_ratio</th>\n",
       "      <th>max.length_aspect_ratio</th>\n",
       "      <th>scatter_ratio</th>\n",
       "      <th>elongatedness</th>\n",
       "      <th>pr.axis_rectangularity</th>\n",
       "      <th>max.length_rectangularity</th>\n",
       "      <th>scaled_variance</th>\n",
       "      <th>scaled_variance.1</th>\n",
       "      <th>scaled_radius_of_gyration</th>\n",
       "      <th>scaled_radius_of_gyration.1</th>\n",
       "      <th>skewness_about</th>\n",
       "      <th>skewness_about.1</th>\n",
       "      <th>skewness_about.2</th>\n",
       "      <th>hollows_ratio</th>\n",
       "    </tr>\n",
       "  </thead>\n",
       "  <tbody>\n",
       "    <tr>\n",
       "      <th>0</th>\n",
       "      <td>0.163231</td>\n",
       "      <td>0.520408</td>\n",
       "      <td>0.060669</td>\n",
       "      <td>0.264970</td>\n",
       "      <td>1.283254</td>\n",
       "      <td>0.299721</td>\n",
       "      <td>-0.198517</td>\n",
       "      <td>0.129648</td>\n",
       "      <td>-0.217151</td>\n",
       "      <td>0.766312</td>\n",
       "      <td>-0.397397</td>\n",
       "      <td>-0.339014</td>\n",
       "      <td>0.301676</td>\n",
       "      <td>-0.321192</td>\n",
       "      <td>-0.071523</td>\n",
       "      <td>0.371287</td>\n",
       "      <td>-0.321809</td>\n",
       "      <td>0.171837</td>\n",
       "    </tr>\n",
       "    <tr>\n",
       "      <th>1</th>\n",
       "      <td>-0.322874</td>\n",
       "      <td>-0.619123</td>\n",
       "      <td>0.124067</td>\n",
       "      <td>-0.836393</td>\n",
       "      <td>-0.599253</td>\n",
       "      <td>0.085785</td>\n",
       "      <td>-0.591720</td>\n",
       "      <td>0.514333</td>\n",
       "      <td>-0.606014</td>\n",
       "      <td>-0.337462</td>\n",
       "      <td>-0.590034</td>\n",
       "      <td>-0.618754</td>\n",
       "      <td>-0.502972</td>\n",
       "      <td>-0.053505</td>\n",
       "      <td>0.538425</td>\n",
       "      <td>0.147109</td>\n",
       "      <td>0.003400</td>\n",
       "      <td>0.442318</td>\n",
       "    </tr>\n",
       "    <tr>\n",
       "      <th>2</th>\n",
       "      <td>1.256966</td>\n",
       "      <td>0.845988</td>\n",
       "      <td>1.518823</td>\n",
       "      <td>1.187734</td>\n",
       "      <td>0.530251</td>\n",
       "      <td>0.299721</td>\n",
       "      <td>1.162569</td>\n",
       "      <td>-1.152637</td>\n",
       "      <td>0.949438</td>\n",
       "      <td>0.697326</td>\n",
       "      <td>1.111591</td>\n",
       "      <td>1.122486</td>\n",
       "      <td>1.415804</td>\n",
       "      <td>0.080339</td>\n",
       "      <td>1.555006</td>\n",
       "      <td>-0.413338</td>\n",
       "      <td>-0.159204</td>\n",
       "      <td>0.036596</td>\n",
       "    </tr>\n",
       "    <tr>\n",
       "      <th>3</th>\n",
       "      <td>-0.079822</td>\n",
       "      <td>-0.619123</td>\n",
       "      <td>-0.002729</td>\n",
       "      <td>-0.300595</td>\n",
       "      <td>0.153750</td>\n",
       "      <td>0.085785</td>\n",
       "      <td>-0.742952</td>\n",
       "      <td>0.642562</td>\n",
       "      <td>-0.606014</td>\n",
       "      <td>-0.337462</td>\n",
       "      <td>-0.911095</td>\n",
       "      <td>-0.738643</td>\n",
       "      <td>-1.462359</td>\n",
       "      <td>-1.258099</td>\n",
       "      <td>-0.071523</td>\n",
       "      <td>-0.301249</td>\n",
       "      <td>1.629444</td>\n",
       "      <td>1.524243</td>\n",
       "    </tr>\n",
       "    <tr>\n",
       "      <th>4</th>\n",
       "      <td>-1.052030</td>\n",
       "      <td>-0.130753</td>\n",
       "      <td>-0.763506</td>\n",
       "      <td>1.068668</td>\n",
       "      <td>5.173770</td>\n",
       "      <td>9.285029</td>\n",
       "      <td>-0.591720</td>\n",
       "      <td>0.514333</td>\n",
       "      <td>-0.606014</td>\n",
       "      <td>-0.268476</td>\n",
       "      <td>1.689501</td>\n",
       "      <td>-0.647299</td>\n",
       "      <td>0.425468</td>\n",
       "      <td>7.307905</td>\n",
       "      <td>0.538425</td>\n",
       "      <td>-0.189159</td>\n",
       "      <td>-1.460039</td>\n",
       "      <td>-1.721531</td>\n",
       "    </tr>\n",
       "  </tbody>\n",
       "</table>\n",
       "</div>"
      ],
      "text/plain": [
       "   compactness  circularity  distance_circularity  radius_ratio  \\\n",
       "0     0.163231     0.520408              0.060669      0.264970   \n",
       "1    -0.322874    -0.619123              0.124067     -0.836393   \n",
       "2     1.256966     0.845988              1.518823      1.187734   \n",
       "3    -0.079822    -0.619123             -0.002729     -0.300595   \n",
       "4    -1.052030    -0.130753             -0.763506      1.068668   \n",
       "\n",
       "   pr.axis_aspect_ratio  max.length_aspect_ratio  scatter_ratio  \\\n",
       "0              1.283254                 0.299721      -0.198517   \n",
       "1             -0.599253                 0.085785      -0.591720   \n",
       "2              0.530251                 0.299721       1.162569   \n",
       "3              0.153750                 0.085785      -0.742952   \n",
       "4              5.173770                 9.285029      -0.591720   \n",
       "\n",
       "   elongatedness  pr.axis_rectangularity  max.length_rectangularity  \\\n",
       "0       0.129648               -0.217151                   0.766312   \n",
       "1       0.514333               -0.606014                  -0.337462   \n",
       "2      -1.152637                0.949438                   0.697326   \n",
       "3       0.642562               -0.606014                  -0.337462   \n",
       "4       0.514333               -0.606014                  -0.268476   \n",
       "\n",
       "   scaled_variance  scaled_variance.1  scaled_radius_of_gyration  \\\n",
       "0        -0.397397          -0.339014                   0.301676   \n",
       "1        -0.590034          -0.618754                  -0.502972   \n",
       "2         1.111591           1.122486                   1.415804   \n",
       "3        -0.911095          -0.738643                  -1.462359   \n",
       "4         1.689501          -0.647299                   0.425468   \n",
       "\n",
       "   scaled_radius_of_gyration.1  skewness_about  skewness_about.1  \\\n",
       "0                    -0.321192       -0.071523          0.371287   \n",
       "1                    -0.053505        0.538425          0.147109   \n",
       "2                     0.080339        1.555006         -0.413338   \n",
       "3                    -1.258099       -0.071523         -0.301249   \n",
       "4                     7.307905        0.538425         -0.189159   \n",
       "\n",
       "   skewness_about.2  hollows_ratio  \n",
       "0         -0.321809       0.171837  \n",
       "1          0.003400       0.442318  \n",
       "2         -0.159204       0.036596  \n",
       "3          1.629444       1.524243  \n",
       "4         -1.460039      -1.721531  "
      ]
     },
     "execution_count": 12,
     "metadata": {},
     "output_type": "execute_result"
    }
   ],
   "source": [
    "interest_df_z.head()"
   ]
  },
  {
   "cell_type": "code",
   "execution_count": 13,
   "metadata": {},
   "outputs": [],
   "source": [
    "from sklearn.preprocessing import StandardScaler\n",
    "import numpy as np\n",
    "sc = StandardScaler()\n",
    "X_std = sc.fit_transform(interest_df) "
   ]
  },
  {
   "cell_type": "code",
   "execution_count": 14,
   "metadata": {},
   "outputs": [
    {
     "data": {
      "text/plain": [
       "array([[ 0.16323063,  0.52040788,  0.06066872,  0.26497017,  1.2832543 ,\n",
       "         0.2997208 , -0.19851729,  0.12964799, -0.21715097,  0.76631152,\n",
       "        -0.39739727, -0.33901388,  0.30167634, -0.32119222, -0.07152328,\n",
       "         0.37128716, -0.3218087 ,  0.17183708],\n",
       "       [-0.32287376, -0.61912319,  0.12406675, -0.83639333, -0.59925336,\n",
       "         0.08578488, -0.59171992,  0.51433345, -0.60601383, -0.33746218,\n",
       "        -0.59003405, -0.61875406, -0.50297155, -0.0535046 ,  0.53842522,\n",
       "         0.14710858,  0.00340009,  0.44231829]])"
      ]
     },
     "execution_count": 14,
     "metadata": {},
     "output_type": "execute_result"
    }
   ],
   "source": [
    "X_std[:2]"
   ]
  },
  {
   "cell_type": "markdown",
   "metadata": {},
   "source": [
    "# Q4. Create datasets using multivariate normal distribution to visually observe how the clusters are formed at the end\n",
    "(Use hierarchial clustering)"
   ]
  },
  {
   "cell_type": "code",
   "execution_count": 15,
   "metadata": {},
   "outputs": [],
   "source": [
    "np.random.seed(101)  # for repeatability of this dataset\n",
    "a = np.random.multivariate_normal([10, 0], [[3, 1], [1, 4]], size=[100,])\n",
    "b = np.random.multivariate_normal([0, 20], [[3, 1], [1, 4]], size=[50,])\n",
    "c = np.random.multivariate_normal([10, 20], [[3, 1], [1, 4]], size=[100,])"
   ]
  },
  {
   "cell_type": "code",
   "execution_count": 16,
   "metadata": {},
   "outputs": [],
   "source": [
    "#Combine all three arrays a,b,c into a dataframe"
   ]
  },
  {
   "cell_type": "code",
   "execution_count": 17,
   "metadata": {},
   "outputs": [
    {
     "name": "stdout",
     "output_type": "stream",
     "text": [
      "(250, 2)\n"
     ]
    }
   ],
   "source": [
    "X = np.concatenate((a, b, c), axis=0)\n",
    "print(X.shape)  # 250 samples with 2 dimensions"
   ]
  },
  {
   "cell_type": "markdown",
   "metadata": {},
   "source": [
    "# Q5. Use scatter matrix to print all the 3 distributions"
   ]
  },
  {
   "cell_type": "code",
   "execution_count": 28,
   "metadata": {},
   "outputs": [
    {
     "data": {
      "text/plain": [
       "array([[ 1.38827849e+01,  4.43850083e+00],\n",
       "       [ 1.16872556e+01,  1.25098137e+00],\n",
       "       [ 1.03163967e+01,  1.44934627e+00],\n",
       "       [ 9.83741213e+00, -2.04197417e+00],\n",
       "       [ 8.69160067e+00, -4.28977303e+00],\n",
       "       [ 9.82416420e+00,  1.44459041e+00],\n",
       "       [ 9.21688905e+00,  9.60681718e-01],\n",
       "       [ 1.01995087e+01, -2.48089865e+00],\n",
       "       [ 1.28133902e+01, -1.25677560e+00],\n",
       "       [ 1.38415115e+01,  4.20915408e+00],\n",
       "       [ 1.25655687e+01, -8.20998424e-01],\n",
       "       [ 6.55074161e+00, -2.17824976e+00],\n",
       "       [ 1.03603694e+01, -5.63362637e-01],\n",
       "       [ 1.04307903e+01,  1.55400680e-01],\n",
       "       [ 1.10083125e+01,  1.41729996e+00],\n",
       "       [ 1.11544662e+01,  9.00239759e-01],\n",
       "       [ 8.44839444e+00, -2.96866713e-01],\n",
       "       [ 9.57057439e+00, -2.11788583e+00],\n",
       "       [ 1.23648141e+01, -1.75653468e+00],\n",
       "       [ 1.28903591e+01, -1.18477066e+00],\n",
       "       [ 9.13620561e+00, -1.97538292e+00],\n",
       "       [ 8.71632766e+00, -2.07810133e+00],\n",
       "       [ 1.09535405e+01,  2.00257747e+00],\n",
       "       [ 1.08174543e+01, -5.84991544e-01],\n",
       "       [ 1.16333075e+01,  4.43425276e+00],\n",
       "       [ 8.69185205e+00, -1.09966477e+00],\n",
       "       [ 9.53665814e+00,  6.57788186e-01],\n",
       "       [ 1.19767187e+01,  1.89914881e-01],\n",
       "       [ 1.13996534e+01, -3.20402815e+00],\n",
       "       [ 9.52051417e+00, -2.56797311e+00],\n",
       "       [ 1.31721565e+01, -9.85289428e-01],\n",
       "       [ 9.87701819e+00, -8.75175370e-01],\n",
       "       [ 1.21285902e+01,  4.05367537e-01],\n",
       "       [ 1.25116592e+01, -1.63101007e+00],\n",
       "       [ 7.89049665e+00, -1.23561404e+00],\n",
       "       [ 9.24928415e+00,  9.36692232e-01],\n",
       "       [ 1.03839225e+01, -3.73088645e+00],\n",
       "       [ 8.27511570e+00,  3.49492592e+00],\n",
       "       [ 1.26866329e+01,  8.47063531e-01],\n",
       "       [ 1.05145955e+01, -2.96246987e+00],\n",
       "       [ 7.69335922e+00, -2.28173272e+00],\n",
       "       [ 1.04541721e+01, -6.91298012e-01],\n",
       "       [ 1.07342111e+01,  5.37759568e-01],\n",
       "       [ 1.10582410e+01, -2.81447245e+00],\n",
       "       [ 1.00461636e+01,  1.65476208e+00],\n",
       "       [ 1.12052716e+01, -2.18128049e+00],\n",
       "       [ 9.53682497e+00,  1.90762251e+00],\n",
       "       [ 1.09080878e+01, -1.54939065e+00],\n",
       "       [ 6.63329815e+00, -2.90256799e+00],\n",
       "       [ 9.20859033e+00,  2.31001159e+00],\n",
       "       [ 1.03505276e+01,  3.84249822e+00],\n",
       "       [ 6.68917268e+00, -1.45361615e+00],\n",
       "       [ 9.50718139e+00,  4.09317052e-01],\n",
       "       [ 9.27361326e+00, -1.49964131e+00],\n",
       "       [ 9.42379786e+00, -1.67664266e+00],\n",
       "       [ 1.12046308e+01,  8.95410198e-01],\n",
       "       [ 9.96403335e+00, -2.70731818e+00],\n",
       "       [ 1.12764291e+01, -3.80175952e-01],\n",
       "       [ 1.05926406e+01,  2.09864504e+00],\n",
       "       [ 9.95421300e+00,  2.00715428e+00],\n",
       "       [ 8.53439978e+00,  2.38831686e+00],\n",
       "       [ 1.07997356e+01,  1.21736290e+00],\n",
       "       [ 8.54237647e+00, -3.33891216e+00],\n",
       "       [ 1.21787117e+01, -2.69167436e+00],\n",
       "       [ 1.32466624e+01, -1.50755170e+00],\n",
       "       [ 9.69051354e+00,  2.03297325e+00],\n",
       "       [ 1.06645537e+01,  3.61386445e-01],\n",
       "       [ 8.92702483e+00,  2.84623626e+00],\n",
       "       [ 8.95642078e+00,  8.61140930e-03],\n",
       "       [ 1.05313490e+01,  2.70319751e-01],\n",
       "       [ 1.12558970e+01,  5.20324633e-02],\n",
       "       [ 1.08275710e+01, -9.51178259e-01],\n",
       "       [ 9.02962555e+00, -3.68483510e-01],\n",
       "       [ 1.06458047e+01,  4.68738477e-01],\n",
       "       [ 1.18194078e+01, -3.60719893e+00],\n",
       "       [ 6.90393118e+00, -5.40509886e-01],\n",
       "       [ 1.19742665e+01,  1.64385946e+00],\n",
       "       [ 9.61675418e+00,  1.23084129e+00],\n",
       "       [ 8.13232154e+00, -2.37814799e+00],\n",
       "       [ 9.96470287e+00, -9.35756237e-02],\n",
       "       [ 1.17347944e+01, -8.35633727e-01],\n",
       "       [ 6.25490066e+00, -4.58454174e-01],\n",
       "       [ 7.38326240e+00,  6.56994279e-01],\n",
       "       [ 8.90672396e+00, -6.23866545e+00],\n",
       "       [ 9.37820131e+00,  8.33989139e-01],\n",
       "       [ 1.18471019e+01, -2.12956236e+00],\n",
       "       [ 1.24553497e+01,  1.33722457e+00],\n",
       "       [ 8.97816738e+00,  1.46737833e+00],\n",
       "       [ 8.61692104e+00,  5.38045890e-01],\n",
       "       [ 1.09192055e+01,  4.55904656e+00],\n",
       "       [ 6.38016403e+00, -1.06332623e+00],\n",
       "       [ 8.71698052e+00,  2.81933325e+00],\n",
       "       [ 1.10639717e+01,  8.80558301e-01],\n",
       "       [ 1.30417660e+01, -2.39979864e+00],\n",
       "       [ 1.00338530e+01, -1.40344054e+00],\n",
       "       [ 7.55580721e+00, -1.61088290e+00],\n",
       "       [ 9.83840522e+00,  2.00497436e+00],\n",
       "       [ 1.08648853e+01, -6.21511604e-01],\n",
       "       [ 9.54701445e+00,  4.85909286e-01],\n",
       "       [ 7.28377367e+00,  1.81428274e+00],\n",
       "       [ 1.07940833e+00,  1.86267748e+01],\n",
       "       [ 2.89254028e+00,  2.26383476e+01],\n",
       "       [ 3.93688172e-01,  2.01448738e+01],\n",
       "       [ 3.98036864e-01,  1.78190648e+01],\n",
       "       [ 3.13790219e-01,  2.20868356e+01],\n",
       "       [-1.17935376e+00,  1.68140158e+01],\n",
       "       [ 8.35379857e-01,  2.26665453e+01],\n",
       "       [ 8.42414801e-01,  2.01518653e+01],\n",
       "       [ 1.79168306e+00,  2.13905716e+01],\n",
       "       [ 6.32047071e-02,  1.76160549e+01],\n",
       "       [-2.98906723e-01,  1.94308096e+01],\n",
       "       [-1.41029030e+00,  2.31175263e+01],\n",
       "       [-4.37745479e-01,  2.24522046e+01],\n",
       "       [ 9.31583447e-01,  1.79580542e+01],\n",
       "       [ 2.80546276e-01,  2.28625251e+01],\n",
       "       [-3.16511627e+00,  1.93551746e+01],\n",
       "       [ 1.13847574e+00,  1.71367889e+01],\n",
       "       [-1.09545925e+00,  2.11455983e+01],\n",
       "       [-1.90181564e+00,  2.08421581e+01],\n",
       "       [ 8.16234119e-01,  1.92699489e+01],\n",
       "       [-4.48615212e-01,  1.67174482e+01],\n",
       "       [ 3.01212487e+00,  2.21445715e+01],\n",
       "       [ 6.14408774e-01,  1.82286211e+01],\n",
       "       [-2.48679936e+00,  1.90729450e+01],\n",
       "       [ 7.82728673e-01,  2.49866537e+01],\n",
       "       [-1.23981620e+00,  1.87380617e+01],\n",
       "       [ 1.83769918e+00,  1.90933676e+01],\n",
       "       [ 2.68230139e+00,  2.03484180e+01],\n",
       "       [ 1.25841886e+00,  2.11724478e+01],\n",
       "       [-1.37847507e+00,  1.73366120e+01],\n",
       "       [-1.76953813e+00,  1.92508165e+01],\n",
       "       [ 2.42231337e+00,  1.77822966e+01],\n",
       "       [ 2.48912145e+00,  2.09981405e+01],\n",
       "       [-1.22188721e+00,  1.80239870e+01],\n",
       "       [ 1.35982783e-01,  1.93604811e+01],\n",
       "       [ 7.58265866e-01,  2.16391585e+01],\n",
       "       [ 1.00859851e+00,  1.96776424e+01],\n",
       "       [ 1.52106737e+00,  2.00895961e+01],\n",
       "       [-4.38496093e+00,  1.57970470e+01],\n",
       "       [-1.50565539e+00,  2.05382800e+01],\n",
       "       [-4.59968246e+00,  2.00956194e+01],\n",
       "       [ 3.09735656e-01,  2.14785014e+01],\n",
       "       [ 1.20369356e+00,  1.69101900e+01],\n",
       "       [ 5.99599294e-01,  1.84452292e+01],\n",
       "       [ 1.07215937e+00,  1.99186277e+01],\n",
       "       [-2.53771914e+00,  1.63830987e+01],\n",
       "       [ 3.96721397e-01,  1.86284242e+01],\n",
       "       [ 5.14691050e+00,  2.38546799e+01],\n",
       "       [-4.83158948e-01,  2.35580589e+01],\n",
       "       [-7.37197939e-02,  2.05867716e+01],\n",
       "       [ 8.81694043e+00,  1.71414898e+01],\n",
       "       [ 1.15710108e+01,  2.15738199e+01],\n",
       "       [ 1.28112185e+01,  2.05880531e+01],\n",
       "       [ 1.21402978e+01,  1.77226486e+01],\n",
       "       [ 8.73857733e+00,  1.86113065e+01],\n",
       "       [ 9.36563772e+00,  2.02627059e+01],\n",
       "       [ 9.69363670e+00,  1.63973295e+01],\n",
       "       [ 1.27550823e+01,  2.29833862e+01],\n",
       "       [ 9.64567744e+00,  2.05084439e+01],\n",
       "       [ 1.12876520e+01,  2.03646051e+01],\n",
       "       [ 9.00252467e+00,  2.01569385e+01],\n",
       "       [ 7.07415068e+00,  1.53596027e+01],\n",
       "       [ 1.16698541e+01,  2.25228918e+01],\n",
       "       [ 7.17943852e+00,  1.78467250e+01],\n",
       "       [ 5.47719903e+00,  1.87553313e+01],\n",
       "       [ 1.19350105e+01,  2.26181042e+01],\n",
       "       [ 7.62681509e+00,  2.26374451e+01],\n",
       "       [ 1.15315439e+01,  2.04281390e+01],\n",
       "       [ 1.00392099e+01,  2.31410225e+01],\n",
       "       [ 1.02285677e+01,  1.66217952e+01],\n",
       "       [ 1.03380985e+01,  2.14208128e+01],\n",
       "       [ 1.31619905e+01,  1.99549801e+01],\n",
       "       [ 1.10426139e+01,  2.01313054e+01],\n",
       "       [ 1.20418106e+01,  2.11130755e+01],\n",
       "       [ 9.95268837e+00,  1.96723656e+01],\n",
       "       [ 6.14643122e+00,  1.76226547e+01],\n",
       "       [ 1.21346217e+01,  2.52521279e+01],\n",
       "       [ 9.83490077e+00,  1.57696035e+01],\n",
       "       [ 1.03088593e+01,  2.43538222e+01],\n",
       "       [ 9.74884695e+00,  2.02400790e+01],\n",
       "       [ 8.54597899e+00,  2.01193561e+01],\n",
       "       [ 8.41249680e+00,  1.88814041e+01],\n",
       "       [ 1.03744187e+01,  2.11650961e+01],\n",
       "       [ 1.04657008e+01,  2.02972850e+01],\n",
       "       [ 8.92275695e+00,  2.01713779e+01],\n",
       "       [ 8.54064790e+00,  1.87351694e+01],\n",
       "       [ 8.10044932e+00,  2.11336306e+01],\n",
       "       [ 1.04001516e+01,  1.77670899e+01],\n",
       "       [ 9.23762459e+00,  1.84074602e+01],\n",
       "       [ 1.00429132e+01,  1.63691218e+01],\n",
       "       [ 1.18648844e+01,  2.22624478e+01],\n",
       "       [ 1.07543003e+01,  1.98523415e+01],\n",
       "       [ 8.91355458e+00,  2.03283631e+01],\n",
       "       [ 1.00216155e+01,  2.21684300e+01],\n",
       "       [ 1.21432088e+01,  1.97299130e+01],\n",
       "       [ 8.45958903e+00,  1.79339108e+01],\n",
       "       [ 7.18410307e+00,  2.17744735e+01],\n",
       "       [ 9.53507833e+00,  1.90370495e+01],\n",
       "       [ 9.85500559e+00,  1.68268032e+01],\n",
       "       [ 1.38288378e+01,  2.18499958e+01],\n",
       "       [ 1.19725918e+01,  2.40484064e+01],\n",
       "       [ 1.17931128e+01,  2.19013354e+01],\n",
       "       [ 7.36445055e+00,  1.85113148e+01],\n",
       "       [ 7.21074177e+00,  2.07107856e+01],\n",
       "       [ 1.00156849e+01,  1.99329813e+01],\n",
       "       [ 1.36634392e+01,  2.50323213e+01],\n",
       "       [ 1.23004067e+01,  2.20811744e+01],\n",
       "       [ 7.95168007e+00,  1.95317424e+01],\n",
       "       [ 8.91279066e+00,  1.92241531e+01],\n",
       "       [ 1.29599917e+01,  2.11170077e+01],\n",
       "       [ 9.23194091e+00,  1.94841087e+01],\n",
       "       [ 8.84913330e+00,  1.86936050e+01],\n",
       "       [ 9.58603589e+00,  2.09551761e+01],\n",
       "       [ 9.32194821e+00,  2.07778909e+01],\n",
       "       [ 1.18283659e+01,  2.22838801e+01],\n",
       "       [ 1.12228850e+01,  1.77999262e+01],\n",
       "       [ 7.84782996e+00,  1.69020319e+01],\n",
       "       [ 1.33838504e+01,  2.18272052e+01],\n",
       "       [ 1.08622147e+01,  2.15028656e+01],\n",
       "       [ 1.21459286e+01,  2.12940042e+01],\n",
       "       [ 9.89590622e+00,  2.28420782e+01],\n",
       "       [ 1.00735995e+01,  2.28146627e+01],\n",
       "       [ 8.52981532e+00,  1.76472489e+01],\n",
       "       [ 1.16154643e+01,  1.88194179e+01],\n",
       "       [ 1.01846111e+01,  1.93446337e+01],\n",
       "       [ 7.21598712e+00,  1.91454154e+01],\n",
       "       [ 1.03594499e+01,  1.88515174e+01],\n",
       "       [ 1.15619991e+01,  2.56525808e+01],\n",
       "       [ 1.16861785e+01,  2.35719892e+01],\n",
       "       [ 9.66492623e+00,  2.38228508e+01],\n",
       "       [ 1.05099326e+01,  2.03533733e+01],\n",
       "       [ 9.12623738e+00,  1.93968685e+01],\n",
       "       [ 1.01700062e+01,  1.98924954e+01],\n",
       "       [ 6.18059942e+00,  1.75385357e+01],\n",
       "       [ 5.33876435e+00,  2.06307105e+01],\n",
       "       [ 9.41334366e+00,  1.68612517e+01],\n",
       "       [ 9.12030833e+00,  2.13234296e+01],\n",
       "       [ 1.10524837e+01,  2.17273540e+01],\n",
       "       [ 9.75431789e+00,  1.77639619e+01],\n",
       "       [ 1.10448577e+01,  2.27379062e+01],\n",
       "       [ 1.12187781e+01,  2.11123764e+01],\n",
       "       [ 8.71263976e+00,  2.16186003e+01],\n",
       "       [ 6.97165677e+00,  1.83981280e+01],\n",
       "       [ 1.02639786e+01,  2.06283016e+01],\n",
       "       [ 1.14870169e+01,  1.86043105e+01],\n",
       "       [ 9.24884822e+00,  2.43462914e+01],\n",
       "       [ 6.95829136e+00,  1.64486547e+01],\n",
       "       [ 1.12600419e+01,  2.03335774e+01],\n",
       "       [ 6.88983527e+00,  2.12382971e+01],\n",
       "       [ 1.12214979e+01,  2.40250934e+01]])"
      ]
     },
     "execution_count": 28,
     "metadata": {},
     "output_type": "execute_result"
    }
   ],
   "source": [
    "X[:,:]"
   ]
  },
  {
   "cell_type": "code",
   "execution_count": 18,
   "metadata": {},
   "outputs": [
    {
     "data": {
      "image/png": "[encoded data removed]",
      "text/plain": [
       "<Figure size 432x288 with 1 Axes>"
      ]
     },
     "metadata": {
      "needs_background": "light"
     },
     "output_type": "display_data"
    }
   ],
   "source": [
    "plt.scatter(X[:,0], X[:,1])\n",
    "plt.show()"
   ]
  },
  {
   "cell_type": "markdown",
   "metadata": {},
   "source": [
    "# Q6. Find out the linkage matrix"
   ]
  },
  {
   "cell_type": "code",
   "execution_count": 19,
   "metadata": {},
   "outputs": [],
   "source": [
    "#Use ward as linkage metric and distance as Eucledian"
   ]
  },
  {
   "cell_type": "code",
   "execution_count": 20,
   "metadata": {},
   "outputs": [
    {
     "data": {
      "text/plain": [
       "(249, 4)"
      ]
     },
     "execution_count": 20,
     "metadata": {},
     "output_type": "execute_result"
    }
   ],
   "source": [
    "#### generate the linkage matrix\n",
    "from scipy.cluster.hierarchy import dendrogram, linkage\n",
    "Z = linkage(X, 'ward', metric='euclidean')\n",
    "Z.shape"
   ]
  },
  {
   "cell_type": "code",
   "execution_count": 21,
   "metadata": {},
   "outputs": [
    {
     "data": {
      "text/plain": [
       "array([[6.00000000e+00, 3.50000000e+01, 4.03105214e-02, 2.00000000e+00],\n",
       "       [1.59000000e+02, 2.47000000e+02, 4.15336058e-02, 2.00000000e+00],\n",
       "       [1.90000000e+02, 2.14000000e+02, 4.23431904e-02, 2.00000000e+00],\n",
       "       [1.50000000e+01, 5.50000000e+01, 5.03965285e-02, 2.00000000e+00],\n",
       "       [2.30000000e+01, 9.70000000e+01, 5.98615830e-02, 2.00000000e+00],\n",
       "       [1.83000000e+02, 2.30000000e+02, 7.14307127e-02, 2.00000000e+00],\n",
       "       [1.60000000e+02, 1.84000000e+02, 8.10640748e-02, 2.00000000e+00],\n",
       "       [5.20000000e+01, 9.80000000e+01, 8.63310058e-02, 2.00000000e+00],\n",
       "       [1.75000000e+02, 2.33000000e+02, 9.07935743e-02, 2.00000000e+00],\n",
       "       [8.00000000e+00, 1.90000000e+01, 1.05398862e-01, 2.00000000e+00],\n",
       "       [6.60000000e+01, 7.30000000e+01, 1.08977001e-01, 2.00000000e+00],\n",
       "       [5.90000000e+01, 9.60000000e+01, 1.15828291e-01, 2.00000000e+00],\n",
       "       [9.20000000e+01, 2.53000000e+02, 1.34937651e-01, 3.00000000e+00],\n",
       "       [2.10000000e+02, 2.31000000e+02, 1.37055098e-01, 2.00000000e+00],\n",
       "       [1.54000000e+02, 2.11000000e+02, 1.37824764e-01, 2.00000000e+00],\n",
       "       [1.30000000e+01, 6.90000000e+01, 1.52703764e-01, 2.00000000e+00],\n",
       "       [1.20000000e+01, 4.10000000e+01, 1.58639203e-01, 2.00000000e+00],\n",
       "       [2.04000000e+02, 2.32000000e+02, 1.59543686e-01, 2.00000000e+00],\n",
       "       [4.20000000e+01, 2.60000000e+02, 1.68525429e-01, 3.00000000e+00],\n",
       "       [2.20000000e+02, 2.21000000e+02, 1.79795753e-01, 2.00000000e+00],\n",
       "       [1.80000000e+01, 3.30000000e+01, 1.93183631e-01, 2.00000000e+00],\n",
       "       [1.81000000e+02, 1.85000000e+02, 1.94440990e-01, 2.00000000e+00],\n",
       "       [1.92000000e+02, 2.56000000e+02, 1.97898027e-01, 3.00000000e+00],\n",
       "       [4.60000000e+01, 6.50000000e+01, 1.98325448e-01, 2.00000000e+00],\n",
       "       [1.73000000e+02, 2.19000000e+02, 2.08748079e-01, 2.00000000e+00],\n",
       "       [6.70000000e+01, 9.10000000e+01, 2.11760204e-01, 2.00000000e+00],\n",
       "       [8.40000000e+01, 2.50000000e+02, 2.13584875e-01, 3.00000000e+00],\n",
       "       [1.22000000e+02, 1.43000000e+02, 2.17113807e-01, 2.00000000e+00],\n",
       "       [5.30000000e+01, 5.40000000e+01, 2.32131193e-01, 2.00000000e+00],\n",
       "       [0.00000000e+00, 9.00000000e+00, 2.33030950e-01, 2.00000000e+00],\n",
       "       [1.16000000e+02, 1.42000000e+02, 2.35797417e-01, 2.00000000e+00],\n",
       "       [2.60000000e+01, 2.57000000e+02, 2.42940144e-01, 3.00000000e+00],\n",
       "       [1.36000000e+02, 1.44000000e+02, 2.49226556e-01, 2.00000000e+00],\n",
       "       [2.23000000e+02, 2.44000000e+02, 2.50539353e-01, 2.00000000e+00],\n",
       "       [1.70000000e+02, 1.82000000e+02, 2.58283158e-01, 2.00000000e+00],\n",
       "       [2.70000000e+01, 3.20000000e+01, 2.63599705e-01, 2.00000000e+00],\n",
       "       [3.00000000e+00, 1.70000000e+01, 2.77425591e-01, 2.00000000e+00],\n",
       "       [1.62000000e+02, 1.65000000e+02, 2.81732739e-01, 2.00000000e+00],\n",
       "       [1.58000000e+02, 1.79000000e+02, 2.87512937e-01, 2.00000000e+00],\n",
       "       [1.40000000e+01, 6.10000000e+01, 2.88927594e-01, 2.00000000e+00],\n",
       "       [2.18000000e+02, 2.37000000e+02, 2.94274223e-01, 2.00000000e+00],\n",
       "       [1.95000000e+02, 2.22000000e+02, 2.95138509e-01, 2.00000000e+00],\n",
       "       [5.00000000e+00, 7.70000000e+01, 2.97838218e-01, 2.00000000e+00],\n",
       "       [1.67000000e+02, 2.51000000e+02, 3.11247463e-01, 3.00000000e+00],\n",
       "       [1.69000000e+02, 1.89000000e+02, 3.13546479e-01, 2.00000000e+00],\n",
       "       [2.12000000e+02, 2.13000000e+02, 3.18076018e-01, 2.00000000e+00],\n",
       "       [1.74000000e+02, 2.67000000e+02, 3.21295470e-01, 3.00000000e+00],\n",
       "       [7.00000000e+00, 5.60000000e+01, 3.26671770e-01, 2.00000000e+00],\n",
       "       [2.00000000e+00, 4.40000000e+01, 3.39443074e-01, 2.00000000e+00],\n",
       "       [1.68000000e+02, 2.69000000e+02, 3.66454864e-01, 3.00000000e+00],\n",
       "       [2.20000000e+01, 5.80000000e+01, 3.73467246e-01, 2.00000000e+00],\n",
       "       [6.80000000e+01, 7.20000000e+01, 3.84134764e-01, 2.00000000e+00],\n",
       "       [1.03000000e+02, 1.09000000e+02, 3.91568077e-01, 2.00000000e+00],\n",
       "       [1.51000000e+02, 2.01000000e+02, 3.95721747e-01, 2.00000000e+00],\n",
       "       [2.08000000e+02, 2.63000000e+02, 3.96174957e-01, 3.00000000e+00],\n",
       "       [1.72000000e+02, 1.91000000e+02, 4.01180283e-01, 2.00000000e+00],\n",
       "       [7.10000000e+01, 2.54000000e+02, 4.02057884e-01, 3.00000000e+00],\n",
       "       [2.61000000e+02, 2.73000000e+02, 4.02900800e-01, 4.00000000e+00],\n",
       "       [1.55000000e+02, 2.88000000e+02, 4.04012254e-01, 3.00000000e+00],\n",
       "       [2.02000000e+02, 2.42000000e+02, 4.08776476e-01, 2.00000000e+00],\n",
       "       [1.46000000e+02, 2.77000000e+02, 4.15034935e-01, 3.00000000e+00],\n",
       "       [2.52000000e+02, 2.87000000e+02, 4.25113018e-01, 4.00000000e+00],\n",
       "       [2.00000000e+01, 2.10000000e+01, 4.32259832e-01, 2.00000000e+00],\n",
       "       [5.70000000e+01, 7.00000000e+01, 4.32695826e-01, 2.00000000e+00],\n",
       "       [2.43000000e+02, 2.55000000e+02, 4.34964847e-01, 3.00000000e+00],\n",
       "       [1.10000000e+02, 1.34000000e+02, 4.40539426e-01, 2.00000000e+00],\n",
       "       [1.98000000e+02, 2.35000000e+02, 4.43003354e-01, 2.00000000e+00],\n",
       "       [1.99000000e+02, 2.17000000e+02, 4.45570590e-01, 2.00000000e+00],\n",
       "       [1.02000000e+02, 1.07000000e+02, 4.48781091e-01, 2.00000000e+00],\n",
       "       [4.00000000e+01, 7.80000000e+01, 4.49426097e-01, 2.00000000e+00],\n",
       "       [3.00000000e+01, 2.59000000e+02, 4.59032407e-01, 3.00000000e+00],\n",
       "       [1.35000000e+02, 1.41000000e+02, 4.76434734e-01, 2.00000000e+00],\n",
       "       [1.00000000e+00, 7.60000000e+01, 4.86547470e-01, 2.00000000e+00],\n",
       "       [2.65000000e+02, 2.68000000e+02, 4.88130741e-01, 5.00000000e+00],\n",
       "       [5.10000000e+01, 9.00000000e+01, 4.97807765e-01, 2.00000000e+00],\n",
       "       [1.18000000e+02, 1.39000000e+02, 4.99284335e-01, 2.00000000e+00],\n",
       "       [2.64000000e+02, 2.71000000e+02, 4.99903557e-01, 4.00000000e+00],\n",
       "       [3.40000000e+01, 9.50000000e+01, 5.02835695e-01, 2.00000000e+00],\n",
       "       [2.36000000e+02, 2.41000000e+02, 5.03308447e-01, 2.00000000e+00],\n",
       "       [1.80000000e+02, 2.72000000e+02, 5.05194290e-01, 4.00000000e+00],\n",
       "       [1.01000000e+02, 1.21000000e+02, 5.08050498e-01, 2.00000000e+00],\n",
       "       [2.80000000e+01, 4.30000000e+01, 5.17992354e-01, 2.00000000e+00],\n",
       "       [1.56000000e+02, 3.16000000e+02, 5.20352199e-01, 3.00000000e+00],\n",
       "       [2.24000000e+02, 2.26000000e+02, 5.23194253e-01, 2.00000000e+00],\n",
       "       [3.80000000e+01, 8.60000000e+01, 5.41986872e-01, 2.00000000e+00],\n",
       "       [1.52000000e+02, 2.09000000e+02, 5.49478407e-01, 2.00000000e+00],\n",
       "       [3.10000000e+01, 9.40000000e+01, 5.51054676e-01, 2.00000000e+00],\n",
       "       [2.00000000e+02, 2.28000000e+02, 5.55882984e-01, 2.00000000e+00],\n",
       "       [1.05000000e+02, 1.29000000e+02, 5.59245984e-01, 2.00000000e+00],\n",
       "       [6.40000000e+01, 3.20000000e+02, 5.69715841e-01, 4.00000000e+00],\n",
       "       [1.08000000e+02, 1.28000000e+02, 5.76149908e-01, 2.00000000e+00],\n",
       "       [1.06000000e+02, 1.14000000e+02, 5.88428762e-01, 2.00000000e+00],\n",
       "       [2.90000000e+01, 2.86000000e+02, 6.02052769e-01, 3.00000000e+00],\n",
       "       [6.00000000e+01, 2.75000000e+02, 6.11301488e-01, 3.00000000e+00],\n",
       "       [1.96000000e+02, 2.48000000e+02, 6.11619747e-01, 2.00000000e+00],\n",
       "       [1.60000000e+01, 3.01000000e+02, 6.43214051e-01, 3.00000000e+00],\n",
       "       [4.50000000e+01, 8.50000000e+01, 6.43910675e-01, 2.00000000e+00],\n",
       "       [1.87000000e+02, 2.38000000e+02, 6.45841251e-01, 2.00000000e+00],\n",
       "       [1.37000000e+02, 2.82000000e+02, 6.49113147e-01, 3.00000000e+00],\n",
       "       [7.50000000e+01, 8.10000000e+01, 6.54197023e-01, 2.00000000e+00],\n",
       "       [2.40000000e+02, 2.90000000e+02, 6.54304698e-01, 3.00000000e+00],\n",
       "       [3.90000000e+01, 2.97000000e+02, 6.56279562e-01, 3.00000000e+00],\n",
       "       [1.04000000e+02, 3.21000000e+02, 6.60588318e-01, 3.00000000e+00],\n",
       "       [2.29000000e+02, 2.45000000e+02, 6.68663595e-01, 2.00000000e+00],\n",
       "       [1.27000000e+02, 1.32000000e+02, 6.77833260e-01, 2.00000000e+00],\n",
       "       [1.97000000e+02, 3.04000000e+02, 6.79247821e-01, 4.00000000e+00],\n",
       "       [2.66000000e+02, 3.06000000e+02, 6.80235770e-01, 5.00000000e+00],\n",
       "       [1.00000000e+02, 1.13000000e+02, 6.84864572e-01, 2.00000000e+00],\n",
       "       [1.76000000e+02, 2.27000000e+02, 6.98755453e-01, 2.00000000e+00],\n",
       "       [1.63000000e+02, 3.09000000e+02, 7.02176777e-01, 3.00000000e+00],\n",
       "       [1.25000000e+02, 1.33000000e+02, 7.14299740e-01, 2.00000000e+00],\n",
       "       [2.92000000e+02, 2.98000000e+02, 7.18744558e-01, 4.00000000e+00],\n",
       "       [2.40000000e+01, 8.90000000e+01, 7.24924223e-01, 2.00000000e+00],\n",
       "       [1.10000000e+01, 4.80000000e+01, 7.29007873e-01, 2.00000000e+00],\n",
       "       [1.15000000e+02, 1.23000000e+02, 7.34688639e-01, 2.00000000e+00],\n",
       "       [2.06000000e+02, 3.11000000e+02, 7.40277490e-01, 5.00000000e+00],\n",
       "       [2.49000000e+02, 3.37000000e+02, 7.44497177e-01, 3.00000000e+00],\n",
       "       [4.90000000e+01, 3.43000000e+02, 7.48098739e-01, 4.00000000e+00],\n",
       "       [2.62000000e+02, 2.89000000e+02, 7.54214102e-01, 5.00000000e+00],\n",
       "       [3.10000000e+02, 3.57000000e+02, 7.58385564e-01, 5.00000000e+00],\n",
       "       [8.70000000e+01, 2.76000000e+02, 7.76675223e-01, 4.00000000e+00],\n",
       "       [1.00000000e+01, 3.39000000e+02, 7.86415406e-01, 5.00000000e+00],\n",
       "       [2.94000000e+02, 3.32000000e+02, 8.07880737e-01, 5.00000000e+00],\n",
       "       [2.07000000e+02, 2.25000000e+02, 8.30958852e-01, 2.00000000e+00],\n",
       "       [1.50000000e+02, 2.91000000e+02, 8.36783815e-01, 3.00000000e+00],\n",
       "       [2.95000000e+02, 3.08000000e+02, 8.45612422e-01, 5.00000000e+00],\n",
       "       [2.78000000e+02, 3.12000000e+02, 8.61190720e-01, 4.00000000e+00],\n",
       "       [1.88000000e+02, 3.26000000e+02, 8.64564900e-01, 5.00000000e+00],\n",
       "       [1.17000000e+02, 3.25000000e+02, 8.77397888e-01, 3.00000000e+00],\n",
       "       [1.19000000e+02, 3.48000000e+02, 8.98994033e-01, 4.00000000e+00],\n",
       "       [6.30000000e+01, 9.30000000e+01, 9.11073078e-01, 2.00000000e+00],\n",
       "       [7.90000000e+01, 2.81000000e+02, 9.18429832e-01, 4.00000000e+00],\n",
       "       [1.53000000e+02, 2.15000000e+02, 9.20661792e-01, 2.00000000e+00],\n",
       "       [2.93000000e+02, 3.05000000e+02, 9.29450685e-01, 5.00000000e+00],\n",
       "       [1.93000000e+02, 2.99000000e+02, 9.36178872e-01, 4.00000000e+00],\n",
       "       [2.03000000e+02, 3.44000000e+02, 9.40337348e-01, 3.00000000e+00],\n",
       "       [8.00000000e+01, 3.13000000e+02, 9.45593900e-01, 3.00000000e+00],\n",
       "       [1.49000000e+02, 3.18000000e+02, 9.45687653e-01, 3.00000000e+00],\n",
       "       [2.74000000e+02, 3.03000000e+02, 9.53710655e-01, 4.00000000e+00],\n",
       "       [8.80000000e+01, 3.45000000e+02, 9.57214676e-01, 4.00000000e+00],\n",
       "       [4.00000000e+00, 6.20000000e+01, 9.62498970e-01, 2.00000000e+00],\n",
       "       [7.40000000e+01, 3.31000000e+02, 9.70351311e-01, 3.00000000e+00],\n",
       "       [2.16000000e+02, 2.46000000e+02, 9.98413613e-01, 2.00000000e+00],\n",
       "       [4.70000000e+01, 3.46000000e+02, 9.99546287e-01, 3.00000000e+00],\n",
       "       [1.86000000e+02, 3.28000000e+02, 1.01962383e+00, 3.00000000e+00],\n",
       "       [1.11000000e+02, 1.48000000e+02, 1.02647039e+00, 2.00000000e+00],\n",
       "       [1.78000000e+02, 3.53000000e+02, 1.03173163e+00, 3.00000000e+00],\n",
       "       [1.71000000e+02, 1.94000000e+02, 1.04334629e+00, 2.00000000e+00],\n",
       "       [1.20000000e+02, 3.38000000e+02, 1.04400807e+00, 3.00000000e+00],\n",
       "       [2.50000000e+01, 3.76000000e+02, 1.05795152e+00, 5.00000000e+00],\n",
       "       [3.24000000e+02, 3.49000000e+02, 1.07523662e+00, 4.00000000e+00],\n",
       "       [1.77000000e+02, 3.72000000e+02, 1.09184436e+00, 6.00000000e+00],\n",
       "       [2.84000000e+02, 3.50000000e+02, 1.09276861e+00, 5.00000000e+00],\n",
       "       [3.07000000e+02, 3.61000000e+02, 1.15505810e+00, 8.00000000e+00],\n",
       "       [3.22000000e+02, 3.34000000e+02, 1.16117369e+00, 4.00000000e+00],\n",
       "       [8.20000000e+01, 9.90000000e+01, 1.16155697e+00, 2.00000000e+00],\n",
       "       [1.12000000e+02, 3.95000000e+02, 1.17944956e+00, 3.00000000e+00],\n",
       "       [1.30000000e+02, 3.60000000e+02, 1.18136724e+00, 3.00000000e+00],\n",
       "       [2.96000000e+02, 3.33000000e+02, 1.19054224e+00, 5.00000000e+00],\n",
       "       [2.70000000e+02, 3.80000000e+02, 1.22916851e+00, 4.00000000e+00],\n",
       "       [2.39000000e+02, 3.65000000e+02, 1.23353917e+00, 6.00000000e+00],\n",
       "       [1.26000000e+02, 3.79000000e+02, 1.23569624e+00, 5.00000000e+00],\n",
       "       [3.60000000e+01, 3.51000000e+02, 1.25684280e+00, 4.00000000e+00],\n",
       "       [5.00000000e+01, 3.62000000e+02, 1.30888662e+00, 3.00000000e+00],\n",
       "       [3.19000000e+02, 3.27000000e+02, 1.31001670e+00, 4.00000000e+00],\n",
       "       [3.70000000e+01, 3.67000000e+02, 1.35285928e+00, 5.00000000e+00],\n",
       "       [2.83000000e+02, 3.82000000e+02, 1.35689911e+00, 4.00000000e+00],\n",
       "       [3.02000000e+02, 3.69000000e+02, 1.39302259e+00, 7.00000000e+00],\n",
       "       [3.36000000e+02, 3.56000000e+02, 1.42631242e+00, 7.00000000e+00],\n",
       "       [2.85000000e+02, 3.86000000e+02, 1.44271082e+00, 5.00000000e+00],\n",
       "       [3.35000000e+02, 3.97000000e+02, 1.46598833e+00, 4.00000000e+00],\n",
       "       [1.57000000e+02, 4.10000000e+02, 1.48286660e+00, 7.00000000e+00],\n",
       "       [3.14000000e+02, 3.83000000e+02, 1.52778453e+00, 8.00000000e+00],\n",
       "       [1.61000000e+02, 3.92000000e+02, 1.56603746e+00, 3.00000000e+00],\n",
       "       [3.15000000e+02, 3.87000000e+02, 1.57060620e+00, 5.00000000e+00],\n",
       "       [1.64000000e+02, 2.58000000e+02, 1.57100185e+00, 3.00000000e+00],\n",
       "       [3.41000000e+02, 3.52000000e+02, 1.60232516e+00, 5.00000000e+00],\n",
       "       [3.42000000e+02, 3.99000000e+02, 1.60391405e+00, 8.00000000e+00],\n",
       "       [3.55000000e+02, 3.77000000e+02, 1.60948460e+00, 9.00000000e+00],\n",
       "       [3.70000000e+02, 3.81000000e+02, 1.62073433e+00, 8.00000000e+00],\n",
       "       [3.29000000e+02, 3.75000000e+02, 1.63091313e+00, 9.00000000e+00],\n",
       "       [1.31000000e+02, 2.80000000e+02, 1.68971853e+00, 3.00000000e+00],\n",
       "       [3.40000000e+02, 3.54000000e+02, 1.72912979e+00, 4.00000000e+00],\n",
       "       [3.00000000e+02, 3.68000000e+02, 1.73337763e+00, 7.00000000e+00],\n",
       "       [3.59000000e+02, 3.73000000e+02, 1.80017589e+00, 5.00000000e+00],\n",
       "       [1.66000000e+02, 3.85000000e+02, 1.82995164e+00, 4.00000000e+00],\n",
       "       [1.38000000e+02, 1.45000000e+02, 1.93797801e+00, 2.00000000e+00],\n",
       "       [2.05000000e+02, 3.58000000e+02, 2.15131595e+00, 3.00000000e+00],\n",
       "       [3.91000000e+02, 3.93000000e+02, 2.18167539e+00, 6.00000000e+00],\n",
       "       [3.71000000e+02, 4.09000000e+02, 2.22033700e+00, 9.00000000e+00],\n",
       "       [3.47000000e+02, 4.01000000e+02, 2.27240750e+00, 8.00000000e+00],\n",
       "       [3.63000000e+02, 4.14000000e+02, 2.27664517e+00, 6.00000000e+00],\n",
       "       [3.89000000e+02, 4.29000000e+02, 2.28377033e+00, 1.20000000e+01],\n",
       "       [1.40000000e+02, 3.64000000e+02, 2.28713688e+00, 3.00000000e+00],\n",
       "       [3.88000000e+02, 4.21000000e+02, 2.32018944e+00, 1.10000000e+01],\n",
       "       [3.94000000e+02, 4.30000000e+02, 2.39672617e+00, 1.20000000e+01],\n",
       "       [4.11000000e+02, 4.24000000e+02, 2.46054134e+00, 1.00000000e+01],\n",
       "       [3.23000000e+02, 4.33000000e+02, 2.54058922e+00, 1.20000000e+01],\n",
       "       [4.12000000e+02, 4.38000000e+02, 2.57191431e+00, 1.00000000e+01],\n",
       "       [4.08000000e+02, 4.22000000e+02, 2.65365342e+00, 1.30000000e+01],\n",
       "       [2.34000000e+02, 4.35000000e+02, 2.68013467e+00, 5.00000000e+00],\n",
       "       [3.84000000e+02, 3.96000000e+02, 2.69855220e+00, 7.00000000e+00],\n",
       "       [3.30000000e+02, 4.32000000e+02, 2.73452091e+00, 6.00000000e+00],\n",
       "       [4.17000000e+02, 4.31000000e+02, 2.78172164e+00, 1.00000000e+01],\n",
       "       [3.17000000e+02, 4.20000000e+02, 2.79255618e+00, 6.00000000e+00],\n",
       "       [8.30000000e+01, 3.90000000e+02, 2.81928783e+00, 3.00000000e+00],\n",
       "       [3.66000000e+02, 4.37000000e+02, 2.86162492e+00, 6.00000000e+00],\n",
       "       [3.74000000e+02, 4.28000000e+02, 2.99433252e+00, 1.20000000e+01],\n",
       "       [4.06000000e+02, 4.26000000e+02, 3.02014259e+00, 8.00000000e+00],\n",
       "       [4.25000000e+02, 4.34000000e+02, 3.04701879e+00, 8.00000000e+00],\n",
       "       [3.98000000e+02, 4.07000000e+02, 3.05335798e+00, 6.00000000e+00],\n",
       "       [4.04000000e+02, 4.19000000e+02, 3.12061742e+00, 9.00000000e+00],\n",
       "       [4.00000000e+02, 4.41000000e+02, 3.25853831e+00, 1.00000000e+01],\n",
       "       [1.24000000e+02, 4.58000000e+02, 3.48978166e+00, 9.00000000e+00],\n",
       "       [4.05000000e+02, 4.15000000e+02, 3.51186433e+00, 7.00000000e+00],\n",
       "       [4.02000000e+02, 4.44000000e+02, 3.55208275e+00, 1.60000000e+01],\n",
       "       [4.47000000e+02, 4.61000000e+02, 3.77031475e+00, 2.10000000e+01],\n",
       "       [1.47000000e+02, 4.50000000e+02, 3.85881778e+00, 6.00000000e+00],\n",
       "       [3.78000000e+02, 4.43000000e+02, 4.04415488e+00, 6.00000000e+00],\n",
       "       [4.18000000e+02, 4.27000000e+02, 4.37319313e+00, 1.50000000e+01],\n",
       "       [4.03000000e+02, 4.42000000e+02, 4.37949452e+00, 2.00000000e+01],\n",
       "       [2.79000000e+02, 4.13000000e+02, 4.48463786e+00, 5.00000000e+00],\n",
       "       [4.23000000e+02, 4.59000000e+02, 4.66808907e+00, 1.10000000e+01],\n",
       "       [4.36000000e+02, 4.60000000e+02, 4.91593094e+00, 8.00000000e+00],\n",
       "       [4.16000000e+02, 4.49000000e+02, 5.04812583e+00, 1.70000000e+01],\n",
       "       [4.54000000e+02, 4.65000000e+02, 5.40398451e+00, 2.20000000e+01],\n",
       "       [4.64000000e+02, 4.70000000e+02, 5.71695828e+00, 2.70000000e+01],\n",
       "       [4.46000000e+02, 4.53000000e+02, 5.89467906e+00, 2.00000000e+01],\n",
       "       [4.48000000e+02, 4.69000000e+02, 6.04834290e+00, 2.50000000e+01],\n",
       "       [4.51000000e+02, 4.56000000e+02, 6.30381537e+00, 1.30000000e+01],\n",
       "       [4.40000000e+02, 4.57000000e+02, 6.44268504e+00, 2.00000000e+01],\n",
       "       [4.52000000e+02, 4.63000000e+02, 6.98644817e+00, 1.50000000e+01],\n",
       "       [4.55000000e+02, 4.78000000e+02, 7.20683345e+00, 2.80000000e+01],\n",
       "       [4.68000000e+02, 4.73000000e+02, 7.53135979e+00, 1.40000000e+01],\n",
       "       [4.45000000e+02, 4.74000000e+02, 7.66359065e+00, 2.90000000e+01],\n",
       "       [4.72000000e+02, 4.80000000e+02, 8.81130936e+00, 3.10000000e+01],\n",
       "       [4.39000000e+02, 4.66000000e+02, 9.77930066e+00, 3.00000000e+01],\n",
       "       [4.75000000e+02, 4.79000000e+02, 1.03392397e+01, 3.50000000e+01],\n",
       "       [4.77000000e+02, 4.83000000e+02, 1.16988837e+01, 3.40000000e+01],\n",
       "       [4.62000000e+02, 4.82000000e+02, 1.18722795e+01, 3.80000000e+01],\n",
       "       [4.71000000e+02, 4.76000000e+02, 1.21880062e+01, 3.20000000e+01],\n",
       "       [4.67000000e+02, 4.84000000e+02, 1.25194299e+01, 3.50000000e+01],\n",
       "       [4.86000000e+02, 4.90000000e+02, 1.51282733e+01, 6.20000000e+01],\n",
       "       [4.85000000e+02, 4.91000000e+02, 1.53899022e+01, 6.60000000e+01],\n",
       "       [4.81000000e+02, 4.88000000e+02, 1.71731144e+01, 4.90000000e+01],\n",
       "       [4.89000000e+02, 4.92000000e+02, 2.25539862e+01, 1.00000000e+02],\n",
       "       [4.87000000e+02, 4.93000000e+02, 2.82133291e+01, 1.01000000e+02],\n",
       "       [4.94000000e+02, 4.96000000e+02, 8.00943490e+01, 1.50000000e+02],\n",
       "       [4.95000000e+02, 4.97000000e+02, 2.26036308e+02, 2.50000000e+02]])"
      ]
     },
     "execution_count": 21,
     "metadata": {},
     "output_type": "execute_result"
    }
   ],
   "source": [
    "Z[:]"
   ]
  },
  {
   "cell_type": "markdown",
   "metadata": {},
   "source": [
    "# Q7. Plot the dendrogram for the consolidated dataframe"
   ]
  },
  {
   "cell_type": "code",
   "execution_count": 22,
   "metadata": {},
   "outputs": [
    {
     "data": {
      "image/png": "[encoded data removed]",
      "text/plain": [
       "<Figure size 1800x720 with 1 Axes>"
      ]
     },
     "metadata": {
      "needs_background": "light"
     },
     "output_type": "display_data"
    }
   ],
   "source": [
    "plt.figure(figsize=(25, 10))\n",
    "dendrogram(Z)\n",
    "plt.show()"
   ]
  },
  {
   "cell_type": "markdown",
   "metadata": {},
   "source": [
    "Recreate the dendrogram for last 12 merged clusters"
   ]
  },
  {
   "cell_type": "code",
   "execution_count": 23,
   "metadata": {},
   "outputs": [
    {
     "data": {
      "image/png": "[encoded data removed]",
      "text/plain": [
       "<Figure size 432x288 with 1 Axes>"
      ]
     },
     "metadata": {
      "needs_background": "light"
     },
     "output_type": "display_data"
    }
   ],
   "source": [
    "# Hint: Use truncate_mode='lastp' attribute in dendrogram function to arrive at dendrogram\n",
    "dendrogram(\n",
    "    Z,\n",
    "    truncate_mode='lastp',  # show only the last p merged clusters\n",
    "    p=3,  # show only the last p merged clusters\n",
    ")\n",
    "plt.show()"
   ]
  },
  {
   "cell_type": "markdown",
   "metadata": {},
   "source": [
    "# Q8. From the truncated dendrogram, find out the optimal distance between clusters which u want to use an input for clustering data"
   ]
  },
  {
   "cell_type": "code",
   "execution_count": 24,
   "metadata": {},
   "outputs": [],
   "source": [
    "max_d = 50"
   ]
  },
  {
   "cell_type": "markdown",
   "metadata": {},
   "source": [
    "# Q9. Use this distance measure(max_d) and fcluster function to cluster the data into 3 different groups"
   ]
  },
  {
   "cell_type": "code",
   "execution_count": 25,
   "metadata": {},
   "outputs": [
    {
     "data": {
      "text/plain": [
       "array([1, 1, 1, 1, 1, 1, 1, 1, 1, 1, 1, 1, 1, 1, 1, 1, 1, 1, 1, 1, 1, 1,\n",
       "       1, 1, 1, 1, 1, 1, 1, 1, 1, 1, 1, 1, 1, 1, 1, 1, 1, 1, 1, 1, 1, 1,\n",
       "       1, 1, 1, 1, 1, 1, 1, 1, 1, 1, 1, 1, 1, 1, 1, 1, 1, 1, 1, 1, 1, 1,\n",
       "       1, 1, 1, 1, 1, 1, 1, 1, 1, 1, 1, 1, 1, 1, 1, 1, 1, 1, 1, 1, 1, 1,\n",
       "       1, 1, 1, 1, 1, 1, 1, 1, 1, 1, 1, 1, 2, 2, 2, 2, 2, 2, 2, 2, 2, 2,\n",
       "       2, 2, 2, 2, 2, 2, 2, 2, 2, 2, 2, 2, 2, 2, 2, 2, 2, 2, 2, 2, 2, 2,\n",
       "       2, 2, 2, 2, 2, 2, 2, 2, 2, 2, 2, 2, 2, 2, 2, 3, 2, 2, 3, 3, 3, 3,\n",
       "       3, 3, 3, 3, 3, 3, 3, 3, 3, 3, 3, 3, 3, 3, 3, 3, 3, 3, 3, 3, 3, 3,\n",
       "       3, 3, 3, 3, 3, 3, 3, 3, 3, 3, 3, 3, 3, 3, 3, 3, 3, 3, 3, 3, 3, 3,\n",
       "       3, 3, 3, 3, 3, 3, 3, 3, 3, 3, 3, 3, 3, 3, 3, 3, 3, 3, 3, 3, 3, 3,\n",
       "       3, 3, 3, 3, 3, 3, 3, 3, 3, 3, 3, 3, 3, 3, 3, 3, 3, 3, 3, 3, 3, 3,\n",
       "       3, 3, 3, 3, 3, 3, 3, 3], dtype=int32)"
      ]
     },
     "execution_count": 25,
     "metadata": {},
     "output_type": "execute_result"
    }
   ],
   "source": [
    "from scipy.cluster.hierarchy import fcluster\n",
    "clusters = fcluster(Z, max_d, criterion='distance')\n",
    "clusters"
   ]
  },
  {
   "cell_type": "markdown",
   "metadata": {},
   "source": [
    "# Q10. Use matplotlib to visually observe the clusters in 2D space"
   ]
  },
  {
   "cell_type": "code",
   "execution_count": 26,
   "metadata": {},
   "outputs": [
    {
     "data": {
      "image/png": "[encoded data removed]",
      "text/plain": [
       "<Figure size 432x288 with 1 Axes>"
      ]
     },
     "metadata": {
      "needs_background": "light"
     },
     "output_type": "display_data"
    }
   ],
   "source": [
    "#### plt.figure(figsize=(10, 8))\n",
    "plt.scatter(X[:,0], X[:,1], c=clusters)  # plot points with cluster dependent colors\n",
    "plt.show()"
   ]
  }
 ],
 "metadata": {
  "kernelspec": {
   "display_name": "Python 3",
   "language": "python",
   "name": "python3"
  },
  "language_info": {
   "codemirror_mode": {
    "name": "ipython",
    "version": 3
   },
   "file_extension": ".py",
   "mimetype": "text/x-python",
   "name": "python",
   "nbconvert_exporter": "python",
   "pygments_lexer": "ipython3",
   "version": "3.8.5"
  }
 },
 "nbformat": 4,
 "nbformat_minor": 2
}
